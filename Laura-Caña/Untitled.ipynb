{
 "cells": [
  {
   "cell_type": "code",
   "execution_count": 9,
   "id": "a8391157-41a2-4d6c-a7aa-d442d913deb9",
   "metadata": {},
   "outputs": [
    {
     "name": "stdout",
     "output_type": "stream",
     "text": [
      "['Kevin', 'Steven', 'Samantha', 'Cinthya', 'Paula']\n"
     ]
    }
   ],
   "source": [
    "nombres = ['Kevin', 'Steven', 'Sammy', 'Cinthya']\n",
    "nombres[2] = 'Samantha'\n",
    "nombres.append('Paula')\n",
    "print(nombres)"
   ]
  },
  {
   "cell_type": "code",
   "execution_count": 6,
   "id": "df924f10-cfab-4abe-ae76-acaf7135ee07",
   "metadata": {},
   "outputs": [
    {
     "name": "stdout",
     "output_type": "stream",
     "text": [
      "hola\n",
      "hola\n",
      "tengo 2\n",
      "hola\n",
      "hola\n",
      "hola\n",
      "hola\n",
      "hola\n",
      "hola\n",
      "hola\n",
      "tengo 9 objetos dentro de la lista\n",
      "hola\n",
      "[1, 1, 1, 1, 1, 1, 1, 1, 1, 1]\n"
     ]
    }
   ],
   "source": [
    "vacia = []\n",
    "\n",
    "while len(vacia) < 10:\n",
    "    print('hola')\n",
    "    vacia.append(1)\n",
    "    if len(vacia) == 9:\n",
    "        print('tengo 9 objetos dentro de la lista')\n",
    "    elif len(vacia) == 2:\n",
    "        print('tengo 2')\n",
    "    else:\n",
    "        continue\n",
    "\n",
    "print(vacia)"
   ]
  }
 ],
 "metadata": {
  "kernelspec": {
   "display_name": "Python 3 (ipykernel)",
   "language": "python",
   "name": "python3"
  },
  "language_info": {
   "codemirror_mode": {
    "name": "ipython",
    "version": 3
   },
   "file_extension": ".py",
   "mimetype": "text/x-python",
   "name": "python",
   "nbconvert_exporter": "python",
   "pygments_lexer": "ipython3",
   "version": "3.9.12"
  }
 },
 "nbformat": 4,
 "nbformat_minor": 5
}
