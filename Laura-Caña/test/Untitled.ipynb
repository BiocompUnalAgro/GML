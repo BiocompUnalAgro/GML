{
 "cells": [
  {
   "cell_type": "code",
   "execution_count": 2,
   "id": "902b8054-8949-4eaa-b4a2-636c71aa726b",
   "metadata": {},
   "outputs": [
    {
     "name": "stdin",
     "output_type": "stream",
     "text": [
      "Ingrese Salario:  1000\n"
     ]
    },
    {
     "name": "stdout",
     "output_type": "stream",
     "text": [
      "1000.0\n"
     ]
    }
   ],
   "source": [
    "salary = float(input('Ingrese Salario: '))\n",
    "\n",
    "percentage = salary * 0.2\n",
    "\n",
    "if perecentage > 500000:\n",
    "    print('"
   ]
  }
 ],
 "metadata": {
  "kernelspec": {
   "display_name": "Python 3 (ipykernel)",
   "language": "python",
   "name": "python3"
  },
  "language_info": {
   "codemirror_mode": {
    "name": "ipython",
    "version": 3
   },
   "file_extension": ".py",
   "mimetype": "text/x-python",
   "name": "python",
   "nbconvert_exporter": "python",
   "pygments_lexer": "ipython3",
   "version": "3.9.12"
  }
 },
 "nbformat": 4,
 "nbformat_minor": 5
}
